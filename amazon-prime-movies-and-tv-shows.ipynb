{
 "cells": [
  {
   "cell_type": "code",
   "execution_count": 1,
   "id": "0cdc14b2",
   "metadata": {
    "_cell_guid": "b1076dfc-b9ad-4769-8c92-a6c4dae69d19",
    "_uuid": "8f2839f25d086af736a60e9eeb907d3b93b6e0e5",
    "execution": {
     "iopub.execute_input": "2024-03-06T05:46:24.466879Z",
     "iopub.status.busy": "2024-03-06T05:46:24.466530Z",
     "iopub.status.idle": "2024-03-06T05:46:25.523841Z",
     "shell.execute_reply": "2024-03-06T05:46:25.522708Z"
    },
    "papermill": {
     "duration": 1.064645,
     "end_time": "2024-03-06T05:46:25.526832",
     "exception": false,
     "start_time": "2024-03-06T05:46:24.462187",
     "status": "completed"
    },
    "tags": []
   },
   "outputs": [
    {
     "name": "stdout",
     "output_type": "stream",
     "text": [
      "/kaggle/input/amazon-prime-movies-and-tv-shows/amazon_prime_titles.csv\n"
     ]
    }
   ],
   "source": [
    "# This Python 3 environment comes with many helpful analytics libraries installed\n",
    "# It is defined by the kaggle/python Docker image: https://github.com/kaggle/docker-python\n",
    "# For example, here's several helpful packages to load\n",
    "\n",
    "import numpy as np # linear algebra\n",
    "import pandas as pd # data processing, CSV file I/O (e.g. pd.read_csv)\n",
    "\n",
    "# Input data files are available in the read-only \"../input/\" directory\n",
    "# For example, running this (by clicking run or pressing Shift+Enter) will list all files under the input directory\n",
    "\n",
    "import os\n",
    "for dirname, _, filenames in os.walk('/kaggle/input'):\n",
    "    for filename in filenames:\n",
    "        print(os.path.join(dirname, filename))\n",
    "\n",
    "# You can write up to 20GB to the current directory (/kaggle/working/) that gets preserved as output when you create a version using \"Save & Run All\" \n",
    "# You can also write temporary files to /kaggle/temp/, but they won't be saved outside of the current session"
   ]
  },
  {
   "cell_type": "code",
   "execution_count": 2,
   "id": "d833e6ef",
   "metadata": {
    "execution": {
     "iopub.execute_input": "2024-03-06T05:46:25.532730Z",
     "iopub.status.busy": "2024-03-06T05:46:25.532246Z",
     "iopub.status.idle": "2024-03-06T05:46:25.686849Z",
     "shell.execute_reply": "2024-03-06T05:46:25.685750Z"
    },
    "papermill": {
     "duration": 0.16043,
     "end_time": "2024-03-06T05:46:25.689423",
     "exception": false,
     "start_time": "2024-03-06T05:46:25.528993",
     "status": "completed"
    },
    "tags": []
   },
   "outputs": [
    {
     "name": "stdout",
     "output_type": "stream",
     "text": [
      "  show_id   type                 title        director  \\\n",
      "0      s1  Movie   The Grand Seduction    Don McKellar   \n",
      "1      s2  Movie  Take Care Good Night    Girish Joshi   \n",
      "2      s3  Movie  Secrets of Deception     Josh Webber   \n",
      "3      s4  Movie    Pink: Staying True  Sonia Anderson   \n",
      "4      s5  Movie         Monster Maker    Giles Foster   \n",
      "\n",
      "                                                cast         country  \\\n",
      "0     Brendan Gleeson, Taylor Kitsch, Gordon Pinsent          Canada   \n",
      "1   Mahesh Manjrekar, Abhay Mahajan, Sachin Khedekar           India   \n",
      "2  Tom Sizemore, Lorenzo Lamas, Robert LaSardo, R...   United States   \n",
      "3  Interviews with: Pink, Adele, Beyoncé, Britney...   United States   \n",
      "4  Harry Dean Stanton, Kieran O'Brien, George Cos...  United Kingdom   \n",
      "\n",
      "       date_added  release_year rating duration                listed_in  \\\n",
      "0  March 30, 2021          2014    NaN  113 min            Comedy, Drama   \n",
      "1  March 30, 2021          2018    13+  110 min     Drama, International   \n",
      "2  March 30, 2021          2017    NaN   74 min  Action, Drama, Suspense   \n",
      "3  March 30, 2021          2014    NaN   69 min              Documentary   \n",
      "4  March 30, 2021          1989    NaN   45 min           Drama, Fantasy   \n",
      "\n",
      "                                         description  \n",
      "0  A small fishing village must procure a local d...  \n",
      "1  A Metro Family decides to fight a Cyber Crimin...  \n",
      "2  After a man discovers his wife is cheating on ...  \n",
      "3  Pink breaks the mold once again, bringing her ...  \n",
      "4  Teenage Matt Banting wants to work with a famo...  \n"
     ]
    }
   ],
   "source": [
    "import numpy as np\n",
    "import matplotlib.pyplot as plt\n",
    "import pandas as pd\n",
    "\n",
    "amazon = pd.read_csv('/kaggle/input/amazon-prime-movies-and-tv-shows/amazon_prime_titles.csv')\n",
    "print(amazon.head())"
   ]
  }
 ],
 "metadata": {
  "kaggle": {
   "accelerator": "none",
   "dataSources": [
    {
     "datasetId": 1643699,
     "sourceId": 2698943,
     "sourceType": "datasetVersion"
    }
   ],
   "dockerImageVersionId": 30664,
   "isGpuEnabled": false,
   "isInternetEnabled": false,
   "language": "python",
   "sourceType": "notebook"
  },
  "kernelspec": {
   "display_name": "Python 3",
   "language": "python",
   "name": "python3"
  },
  "language_info": {
   "codemirror_mode": {
    "name": "ipython",
    "version": 3
   },
   "file_extension": ".py",
   "mimetype": "text/x-python",
   "name": "python",
   "nbconvert_exporter": "python",
   "pygments_lexer": "ipython3",
   "version": "3.10.13"
  },
  "papermill": {
   "default_parameters": {},
   "duration": 4.811073,
   "end_time": "2024-03-06T05:46:26.212827",
   "environment_variables": {},
   "exception": null,
   "input_path": "__notebook__.ipynb",
   "output_path": "__notebook__.ipynb",
   "parameters": {},
   "start_time": "2024-03-06T05:46:21.401754",
   "version": "2.5.0"
  }
 },
 "nbformat": 4,
 "nbformat_minor": 5
}
