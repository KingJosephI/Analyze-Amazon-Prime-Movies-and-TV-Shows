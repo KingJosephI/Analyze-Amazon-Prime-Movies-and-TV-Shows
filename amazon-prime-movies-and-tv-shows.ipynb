{
 "cells": [
  {
   "cell_type": "code",
   "execution_count": 1,
   "id": "d976c518",
   "metadata": {
    "_cell_guid": "b1076dfc-b9ad-4769-8c92-a6c4dae69d19",
    "_uuid": "8f2839f25d086af736a60e9eeb907d3b93b6e0e5",
    "execution": {
     "iopub.execute_input": "2024-03-06T07:19:29.080483Z",
     "iopub.status.busy": "2024-03-06T07:19:29.079882Z",
     "iopub.status.idle": "2024-03-06T07:19:30.085319Z",
     "shell.execute_reply": "2024-03-06T07:19:30.083639Z"
    },
    "papermill": {
     "duration": 1.014979,
     "end_time": "2024-03-06T07:19:30.088263",
     "exception": false,
     "start_time": "2024-03-06T07:19:29.073284",
     "status": "completed"
    },
    "tags": []
   },
   "outputs": [
    {
     "name": "stdout",
     "output_type": "stream",
     "text": [
      "/kaggle/input/amazon-prime-movies-and-tv-shows/amazon_prime_titles.csv\n"
     ]
    }
   ],
   "source": [
    "# This Python 3 environment comes with many helpful analytics libraries installed\n",
    "# It is defined by the kaggle/python Docker image: https://github.com/kaggle/docker-python\n",
    "# For example, here's several helpful packages to load\n",
    "\n",
    "import numpy as np # linear algebra\n",
    "import pandas as pd # data processing, CSV file I/O (e.g. pd.read_csv)\n",
    "\n",
    "# Input data files are available in the read-only \"../input/\" directory\n",
    "# For example, running this (by clicking run or pressing Shift+Enter) will list all files under the input directory\n",
    "\n",
    "import os\n",
    "for dirname, _, filenames in os.walk('/kaggle/input'):\n",
    "    for filename in filenames:\n",
    "        print(os.path.join(dirname, filename))\n",
    "\n",
    "# You can write up to 20GB to the current directory (/kaggle/working/) that gets preserved as output when you create a version using \"Save & Run All\" \n",
    "# You can also write temporary files to /kaggle/temp/, but they won't be saved outside of the current session"
   ]
  },
  {
   "cell_type": "code",
   "execution_count": 2,
   "id": "06b7ab40",
   "metadata": {
    "execution": {
     "iopub.execute_input": "2024-03-06T07:19:30.096101Z",
     "iopub.status.busy": "2024-03-06T07:19:30.095569Z",
     "iopub.status.idle": "2024-03-06T07:19:30.300014Z",
     "shell.execute_reply": "2024-03-06T07:19:30.299211Z"
    },
    "papermill": {
     "duration": 0.211591,
     "end_time": "2024-03-06T07:19:30.302956",
     "exception": false,
     "start_time": "2024-03-06T07:19:30.091365",
     "status": "completed"
    },
    "tags": []
   },
   "outputs": [
    {
     "name": "stdout",
     "output_type": "stream",
     "text": [
      "Number of shows in the dataset: 9668\n",
      "type\n",
      "Movie      7814\n",
      "TV Show    1854\n",
      "Name: count, dtype: int64\n",
      "Number of movies:  7814\n"
     ]
    }
   ],
   "source": [
    "import numpy as np\n",
    "import matplotlib.pyplot as plt\n",
    "import pandas as pd\n",
    "\n",
    "\n",
    "amazon = pd.read_csv('/kaggle/input/amazon-prime-movies-and-tv-shows/amazon_prime_titles.csv')\n",
    "# print(amazon.head())\n",
    "\n",
    "# Total number of shows in the dataset\n",
    "number_of_shows = amazon.show_id.count()\n",
    "print(\"Number of shows in the dataset:\", number_of_shows)\n",
    "\n",
    "# \n",
    "print(amazon.type.value_counts())\n",
    "\n",
    "# Number of movies\n",
    "number_of_movies = len(amazon[amazon.type == \"Movie\"])\n",
    "print(\"Number of movies: \", number_of_movies)\n",
    "\n",
    "# Change the type of the column \"type\" to category because it has a finite number of possible values\n",
    "amazon.type = amazon.type.astype('category')\n",
    "\n"
   ]
  },
  {
   "cell_type": "code",
   "execution_count": 3,
   "id": "31770edf",
   "metadata": {
    "execution": {
     "iopub.execute_input": "2024-03-06T07:19:30.312267Z",
     "iopub.status.busy": "2024-03-06T07:19:30.311057Z",
     "iopub.status.idle": "2024-03-06T07:19:30.343272Z",
     "shell.execute_reply": "2024-03-06T07:19:30.341409Z"
    },
    "papermill": {
     "duration": 0.041067,
     "end_time": "2024-03-06T07:19:30.347413",
     "exception": false,
     "start_time": "2024-03-06T07:19:30.306346",
     "status": "completed"
    },
    "tags": []
   },
   "outputs": [
    {
     "name": "stdout",
     "output_type": "stream",
     "text": [
      "Average duration of movies (minutes):  91.311876119785\n",
      "Longest movie duration (minutes):  601\n",
      "Shortest movie duration (minutes):  0\n",
      "                                                 title duration\n",
      "933  Soothing Surf at Del Norte for Sleep black screen  601 min\n",
      "                                             title duration\n",
      "788   Testing title - Parichey is using this title    0 min\n",
      "1381        Paradise Canyon - Digitally Remastered    0 min\n",
      "1590                     Movie_Project_UN_Test_UHD    0 min\n",
      "4704                    Asin_tombstone_test_target    0 min\n",
      "5162                 Asin_tombstone_test_target_04    0 min\n",
      "5191                      Asintombstonetest-target    0 min\n",
      "5701                    PrimeVideoQATestMovie16 US    0 min\n",
      "6219                        PrimeVideoQAMovie11 US    0 min\n",
      "8575                ProjectUNUnApprovedMovieTarget    0 min\n",
      "8834                                  Molly and Me    0 min\n"
     ]
    },
    {
     "name": "stderr",
     "output_type": "stream",
     "text": [
      "/tmp/ipykernel_18/154778681.py:9: SettingWithCopyWarning: \n",
      "A value is trying to be set on a copy of a slice from a DataFrame.\n",
      "Try using .loc[row_indexer,col_indexer] = value instead\n",
      "\n",
      "See the caveats in the documentation: https://pandas.pydata.org/pandas-docs/stable/user_guide/indexing.html#returning-a-view-versus-a-copy\n",
      "  movies['duration_min'] = movies['duration'].str.strip('min')\n",
      "/tmp/ipykernel_18/154778681.py:10: SettingWithCopyWarning: \n",
      "A value is trying to be set on a copy of a slice from a DataFrame.\n",
      "Try using .loc[row_indexer,col_indexer] = value instead\n",
      "\n",
      "See the caveats in the documentation: https://pandas.pydata.org/pandas-docs/stable/user_guide/indexing.html#returning-a-view-versus-a-copy\n",
      "  movies['duration_min'] = movies['duration_min'].astype('int')\n"
     ]
    }
   ],
   "source": [
    "# Movies\n",
    "movies = amazon[amazon.type == 'Movie']\n",
    "# print(\"Total number of movies\", len(movies))\n",
    "# print('-----------------------------')\n",
    "# print(movies[[ \"title\", \"director\", \"release_year\", \"duration\"]].head(10))\n",
    "\n",
    "# Average duration\n",
    "\n",
    "movies['duration_min'] = movies['duration'].str.strip('min')\n",
    "movies['duration_min'] = movies['duration_min'].astype('int')\n",
    "\n",
    "movie_average_duration = movies['duration_min'].mean()\n",
    "movie_shortest_duration = movies['duration_min'].min()\n",
    "movie_longest_duration = movies['duration_min'].max()\n",
    "print(\"Average duration of movies (minutes): \", movie_average_duration)\n",
    "print(\"Longest movie duration (minutes): \", movie_longest_duration)\n",
    "print(\"Shortest movie duration (minutes): \", movie_shortest_duration)\n",
    "\n",
    "print(movies[movies['duration_min'] == movies['duration_min'].max()][['title', 'duration']])\n",
    "print(movies[movies['duration_min'] == movies['duration_min'].min()][['title', 'duration']])"
   ]
  },
  {
   "cell_type": "code",
   "execution_count": 4,
   "id": "ad7a7318",
   "metadata": {
    "execution": {
     "iopub.execute_input": "2024-03-06T07:19:30.358762Z",
     "iopub.status.busy": "2024-03-06T07:19:30.358246Z",
     "iopub.status.idle": "2024-03-06T07:19:30.374367Z",
     "shell.execute_reply": "2024-03-06T07:19:30.372943Z"
    },
    "papermill": {
     "duration": 0.024755,
     "end_time": "2024-03-06T07:19:30.377417",
     "exception": false,
     "start_time": "2024-03-06T07:19:30.352662",
     "status": "completed"
    },
    "tags": []
   },
   "outputs": [
    {
     "name": "stdout",
     "output_type": "stream",
     "text": [
      "Total number of TV Shows 1854\n",
      "-----------------------------\n",
      "                             title director  release_year   duration\n",
      "17                      Zoo Babies      NaN          2008   1 Season\n",
      "18   Zoë Coombs Marr: Bossy Bottom      NaN          2020   1 Season\n",
      "20                      Zoboomafoo      NaN          2001   1 Season\n",
      "21       Zo Zo Zombie: Mini-Series      NaN          2020   1 Season\n",
      "23                    ZeroZeroZero      NaN          2020   1 Season\n",
      "26              Zahara: The Return      NaN          2020   1 Season\n",
      "27  Z: The Beginning of Everything      NaN          2017   1 Season\n",
      "28                 Yu-Gi-Oh! Zexal      NaN          2015  3 Seasons\n",
      "29                 Yu-Gi-Oh! ARC-V      NaN          2018  3 Seasons\n",
      "30                  Yu-Gi-Oh! 5D's      NaN          2011  2 Seasons\n"
     ]
    }
   ],
   "source": [
    "# TV Shows\n",
    "tv_shows = amazon[amazon.type == \"TV Show\"]\n",
    "print(\"Total number of TV Shows\", len(tv_shows))\n",
    "print('-----------------------------')\n",
    "print(tv_shows[[ \"title\", \"director\", \"release_year\", \"duration\"]].head(10))"
   ]
  }
 ],
 "metadata": {
  "kaggle": {
   "accelerator": "none",
   "dataSources": [
    {
     "datasetId": 1643699,
     "sourceId": 2698943,
     "sourceType": "datasetVersion"
    }
   ],
   "dockerImageVersionId": 30664,
   "isGpuEnabled": false,
   "isInternetEnabled": false,
   "language": "python",
   "sourceType": "notebook"
  },
  "kernelspec": {
   "display_name": "Python 3",
   "language": "python",
   "name": "python3"
  },
  "language_info": {
   "codemirror_mode": {
    "name": "ipython",
    "version": 3
   },
   "file_extension": ".py",
   "mimetype": "text/x-python",
   "name": "python",
   "nbconvert_exporter": "python",
   "pygments_lexer": "ipython3",
   "version": "3.10.13"
  },
  "papermill": {
   "default_parameters": {},
   "duration": 4.973212,
   "end_time": "2024-03-06T07:19:30.905289",
   "environment_variables": {},
   "exception": null,
   "input_path": "__notebook__.ipynb",
   "output_path": "__notebook__.ipynb",
   "parameters": {},
   "start_time": "2024-03-06T07:19:25.932077",
   "version": "2.5.0"
  }
 },
 "nbformat": 4,
 "nbformat_minor": 5
}
